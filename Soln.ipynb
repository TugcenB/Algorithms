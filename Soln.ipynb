{
  "nbformat": 4,
  "nbformat_minor": 0,
  "metadata": {
    "colab": {
      "provenance": [],
      "collapsed_sections": [],
      "authorship_tag": "ABX9TyNEyYaDPyO/QVaFEBlgfNLU",
      "include_colab_link": true
    },
    "kernelspec": {
      "name": "python3",
      "display_name": "Python 3"
    },
    "language_info": {
      "name": "python"
    }
  },
  "cells": [
    {
      "cell_type": "markdown",
      "metadata": {
        "id": "view-in-github",
        "colab_type": "text"
      },
      "source": [
        "<a href=\"https://colab.research.google.com/github/TugcenB/Algorithms/blob/main/Soln.ipynb\" target=\"_parent\"><img src=\"https://colab.research.google.com/assets/colab-badge.svg\" alt=\"Open In Colab\"/></a>"
      ]
    },
    {
      "cell_type": "code",
      "execution_count": null,
      "metadata": {
        "id": "UJp7K1bxmlkY"
      },
      "outputs": [],
      "source": [
        "def avg(*args):\n",
        "    tot=0\n",
        "    j=0\n",
        "    for i in args:\n",
        "        tot+=i\n",
        "        j+=1\n",
        "    \n",
        "    \n",
        "    return tot/j"
      ]
    },
    {
      "cell_type": "code",
      "source": [
        "avg(2,5)"
      ],
      "metadata": {
        "colab": {
          "base_uri": "https://localhost:8080/"
        },
        "id": "NryKSIjPmpcC",
        "outputId": "8a4d49d2-7293-49f7-aa97-f8efef9a1258"
      },
      "execution_count": null,
      "outputs": [
        {
          "output_type": "execute_result",
          "data": {
            "text/plain": [
              "3.5"
            ]
          },
          "metadata": {},
          "execution_count": 10
        }
      ]
    },
    {
      "cell_type": "code",
      "source": [
        "def transformSentence(sentence):\n",
        "    # Write your code here\n",
        "    s =''\n",
        "    sentence+=' '\n",
        "    for i in range(len(sentence)-1):\n",
        "        if(ord(sentence[i])<ord(sentence[i+1])):\n",
        "            s+=sentence[i].upper()\n",
        "        elif(ord(sentence[i])>ord(sentence[i+1])):\n",
        "            s+=sentence[i].lower()\n",
        "        else:\n",
        "          s+=sentence[i]\n",
        "    \n",
        "    return s"
      ],
      "metadata": {
        "id": "1NY6tCKKqP5j"
      },
      "execution_count": null,
      "outputs": []
    },
    {
      "cell_type": "code",
      "source": [
        "s = 'a djdkj'\n",
        "ord(s[0])\n",
        "d=s+'sdfa'\n",
        "len(d)\n",
        "s[0].upper()"
      ],
      "metadata": {
        "colab": {
          "base_uri": "https://localhost:8080/",
          "height": 35
        },
        "id": "BkNntadoqa1g",
        "outputId": "76cc2a91-7b49-4b1e-f29c-66d6610e3b47"
      },
      "execution_count": null,
      "outputs": [
        {
          "output_type": "execute_result",
          "data": {
            "text/plain": [
              "'A'"
            ],
            "application/vnd.google.colaboratory.intrinsic+json": {
              "type": "string"
            }
          },
          "metadata": {},
          "execution_count": 52
        }
      ]
    },
    {
      "cell_type": "code",
      "source": [
        "transformSentence('coOl dog')"
      ],
      "metadata": {
        "colab": {
          "base_uri": "https://localhost:8080/",
          "height": 35
        },
        "id": "dMfX6kEKqw06",
        "outputId": "8cafa08d-20f3-49da-d9c6-f7d57d8630fb"
      },
      "execution_count": null,
      "outputs": [
        {
          "output_type": "execute_result",
          "data": {
            "text/plain": [
              "'CoOl Dog'"
            ],
            "application/vnd.google.colaboratory.intrinsic+json": {
              "type": "string"
            }
          },
          "metadata": {},
          "execution_count": 63
        }
      ]
    },
    {
      "cell_type": "code",
      "source": [
        "def staircase(n):\n",
        "    # Write your code here\n",
        "    s=''\n",
        "    for i in range(n):\n",
        "       s+=(n-i-1)*' '\n",
        "       s+=(i+1)*'#' \n",
        "       print(s)\n",
        "       s=''"
      ],
      "metadata": {
        "id": "V4ok8_Ov4V_g"
      },
      "execution_count": null,
      "outputs": []
    },
    {
      "cell_type": "code",
      "source": [
        "staircase(15)"
      ],
      "metadata": {
        "colab": {
          "base_uri": "https://localhost:8080/"
        },
        "id": "DNptz1Cc4XID",
        "outputId": "a318b886-743a-4865-ddc6-035ebafde435"
      },
      "execution_count": null,
      "outputs": [
        {
          "output_type": "stream",
          "name": "stdout",
          "text": [
            "              #\n",
            "             ##\n",
            "            ###\n",
            "           ####\n",
            "          #####\n",
            "         ######\n",
            "        #######\n",
            "       ########\n",
            "      #########\n",
            "     ##########\n",
            "    ###########\n",
            "   ############\n",
            "  #############\n",
            " ##############\n",
            "###############\n"
          ]
        }
      ]
    },
    {
      "cell_type": "code",
      "source": [
        "def miniMaxSum(arr):\n",
        "    # Write your code here\n",
        "    print(str(sum(arr)-max(arr))+\" \"+str(sum(arr)-min(arr)))"
      ],
      "metadata": {
        "id": "6VZBAMKT92cF"
      },
      "execution_count": null,
      "outputs": []
    },
    {
      "cell_type": "code",
      "source": [
        "arr=[1,2,3,4,5]\n",
        "miniMaxSum(arr)"
      ],
      "metadata": {
        "colab": {
          "base_uri": "https://localhost:8080/"
        },
        "id": "UzvuqRHC94CY",
        "outputId": "429a7e31-7734-41f1-822b-8444723cb916"
      },
      "execution_count": null,
      "outputs": [
        {
          "output_type": "stream",
          "name": "stdout",
          "text": [
            "10 14\n"
          ]
        }
      ]
    },
    {
      "cell_type": "code",
      "source": [
        "def birthdayCakeCandles(candles):\n",
        "    # Write your code here\n",
        "    x = max(candles)\n",
        "    count=0\n",
        "    for i in range(len(candles)):\n",
        "        if(candles[i]==x):\n",
        "            count+=1\n",
        "    return count"
      ],
      "metadata": {
        "id": "jXYfBanXC3hs"
      },
      "execution_count": null,
      "outputs": []
    },
    {
      "cell_type": "code",
      "source": [
        "candles=[3,1,2,1,3]\n",
        "birthdayCakeCandles(candles)"
      ],
      "metadata": {
        "colab": {
          "base_uri": "https://localhost:8080/"
        },
        "id": "o4eupKP1Fgxq",
        "outputId": "dd0b06c7-9b48-4148-f5e1-7bf4f68ebaaa"
      },
      "execution_count": null,
      "outputs": [
        {
          "output_type": "execute_result",
          "data": {
            "text/plain": [
              "2"
            ]
          },
          "metadata": {},
          "execution_count": 35
        }
      ]
    },
    {
      "cell_type": "code",
      "source": [
        "#reverse array\n",
        "n = int(input().strip())\n",
        "\n",
        "arr = list(map(int, input().rstrip().split()))\n",
        "res = arr[::-1]\n",
        "for i in range(n):\n",
        "  print(res[i],end =\" \")"
      ],
      "metadata": {
        "colab": {
          "base_uri": "https://localhost:8080/"
        },
        "id": "0-Ytn9Phb92z",
        "outputId": "a0ff71fc-ffe0-4fcb-9a50-9edc3a107c70"
      },
      "execution_count": 1,
      "outputs": [
        {
          "output_type": "stream",
          "name": "stdout",
          "text": [
            "4\n",
            "1 2 4 3\n",
            "3 4 2 1 "
          ]
        }
      ]
    },
    {
      "cell_type": "code",
      "source": [
        "#Loops\n",
        "n=int(input())\n",
        "arr={}\n",
        "for i in range(n):\n",
        "    arr[i]=str(input())\n",
        "\n",
        "for i in range(n):\n",
        "  even=''\n",
        "  odd=''\n",
        "  for j in range(len(arr[i])):\n",
        "    \n",
        "    if j%2==0:\n",
        "      even+=arr[i][j]\n",
        "    else:\n",
        "      odd+=arr[i][j]\n",
        "  print(even+\" \"+odd)"
      ],
      "metadata": {
        "colab": {
          "base_uri": "https://localhost:8080/"
        },
        "id": "v9xBJ7KodTii",
        "outputId": "6ebe2e27-3899-4795-8ef4-4d9e9e641288"
      },
      "execution_count": 10,
      "outputs": [
        {
          "output_type": "stream",
          "name": "stdout",
          "text": [
            "2\n",
            "Hacker\n",
            "Rank\n",
            "Hce akr\n",
            "Rn ak\n"
          ]
        }
      ]
    }
  ]
}